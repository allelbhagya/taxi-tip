{
 "cells": [
  {
   "cell_type": "code",
   "execution_count": 57,
   "metadata": {},
   "outputs": [],
   "source": [
    "import pandas as pd\n",
    "import numpy as np"
   ]
  },
  {
   "cell_type": "code",
   "execution_count": 58,
   "metadata": {},
   "outputs": [
    {
     "data": {
      "text/html": [
       "<div>\n",
       "<style scoped>\n",
       "    .dataframe tbody tr th:only-of-type {\n",
       "        vertical-align: middle;\n",
       "    }\n",
       "\n",
       "    .dataframe tbody tr th {\n",
       "        vertical-align: top;\n",
       "    }\n",
       "\n",
       "    .dataframe thead th {\n",
       "        text-align: right;\n",
       "    }\n",
       "</style>\n",
       "<table border=\"1\" class=\"dataframe\">\n",
       "  <thead>\n",
       "    <tr style=\"text-align: right;\">\n",
       "      <th></th>\n",
       "      <th>Trip_Distance_km</th>\n",
       "      <th>Time_of_Day</th>\n",
       "      <th>Day_of_Week</th>\n",
       "      <th>Passenger_Count</th>\n",
       "      <th>Traffic_Conditions</th>\n",
       "      <th>Weather</th>\n",
       "      <th>Base_Fare</th>\n",
       "      <th>Per_Km_Rate</th>\n",
       "      <th>Per_Minute_Rate</th>\n",
       "      <th>Trip_Duration_Minutes</th>\n",
       "      <th>Trip_Price</th>\n",
       "    </tr>\n",
       "  </thead>\n",
       "  <tbody>\n",
       "    <tr>\n",
       "      <th>0</th>\n",
       "      <td>19.35</td>\n",
       "      <td>Morning</td>\n",
       "      <td>Weekday</td>\n",
       "      <td>3.0</td>\n",
       "      <td>Low</td>\n",
       "      <td>Clear</td>\n",
       "      <td>3.56</td>\n",
       "      <td>0.80</td>\n",
       "      <td>0.32</td>\n",
       "      <td>53.82</td>\n",
       "      <td>36.2624</td>\n",
       "    </tr>\n",
       "    <tr>\n",
       "      <th>1</th>\n",
       "      <td>47.59</td>\n",
       "      <td>Afternoon</td>\n",
       "      <td>Weekday</td>\n",
       "      <td>1.0</td>\n",
       "      <td>High</td>\n",
       "      <td>Clear</td>\n",
       "      <td>NaN</td>\n",
       "      <td>0.62</td>\n",
       "      <td>0.43</td>\n",
       "      <td>40.57</td>\n",
       "      <td>NaN</td>\n",
       "    </tr>\n",
       "    <tr>\n",
       "      <th>2</th>\n",
       "      <td>36.87</td>\n",
       "      <td>Evening</td>\n",
       "      <td>Weekend</td>\n",
       "      <td>1.0</td>\n",
       "      <td>High</td>\n",
       "      <td>Clear</td>\n",
       "      <td>2.70</td>\n",
       "      <td>1.21</td>\n",
       "      <td>0.15</td>\n",
       "      <td>37.27</td>\n",
       "      <td>52.9032</td>\n",
       "    </tr>\n",
       "    <tr>\n",
       "      <th>3</th>\n",
       "      <td>30.33</td>\n",
       "      <td>Evening</td>\n",
       "      <td>Weekday</td>\n",
       "      <td>4.0</td>\n",
       "      <td>Low</td>\n",
       "      <td>NaN</td>\n",
       "      <td>3.48</td>\n",
       "      <td>0.51</td>\n",
       "      <td>0.15</td>\n",
       "      <td>116.81</td>\n",
       "      <td>36.4698</td>\n",
       "    </tr>\n",
       "    <tr>\n",
       "      <th>4</th>\n",
       "      <td>NaN</td>\n",
       "      <td>Evening</td>\n",
       "      <td>Weekday</td>\n",
       "      <td>3.0</td>\n",
       "      <td>High</td>\n",
       "      <td>Clear</td>\n",
       "      <td>2.93</td>\n",
       "      <td>0.63</td>\n",
       "      <td>0.32</td>\n",
       "      <td>22.64</td>\n",
       "      <td>15.6180</td>\n",
       "    </tr>\n",
       "  </tbody>\n",
       "</table>\n",
       "</div>"
      ],
      "text/plain": [
       "   Trip_Distance_km Time_of_Day Day_of_Week  Passenger_Count  \\\n",
       "0             19.35     Morning     Weekday              3.0   \n",
       "1             47.59   Afternoon     Weekday              1.0   \n",
       "2             36.87     Evening     Weekend              1.0   \n",
       "3             30.33     Evening     Weekday              4.0   \n",
       "4               NaN     Evening     Weekday              3.0   \n",
       "\n",
       "  Traffic_Conditions Weather  Base_Fare  Per_Km_Rate  Per_Minute_Rate  \\\n",
       "0                Low   Clear       3.56         0.80             0.32   \n",
       "1               High   Clear        NaN         0.62             0.43   \n",
       "2               High   Clear       2.70         1.21             0.15   \n",
       "3                Low     NaN       3.48         0.51             0.15   \n",
       "4               High   Clear       2.93         0.63             0.32   \n",
       "\n",
       "   Trip_Duration_Minutes  Trip_Price  \n",
       "0                  53.82     36.2624  \n",
       "1                  40.57         NaN  \n",
       "2                  37.27     52.9032  \n",
       "3                 116.81     36.4698  \n",
       "4                  22.64     15.6180  "
      ]
     },
     "execution_count": 58,
     "metadata": {},
     "output_type": "execute_result"
    }
   ],
   "source": [
    "data = pd.read_csv('taxi_trip_pricing.csv')\n",
    "data.head()"
   ]
  },
  {
   "cell_type": "code",
   "execution_count": 59,
   "metadata": {},
   "outputs": [
    {
     "data": {
      "text/plain": [
       "(1000, 11)"
      ]
     },
     "execution_count": 59,
     "metadata": {},
     "output_type": "execute_result"
    }
   ],
   "source": [
    "data.shape"
   ]
  },
  {
   "cell_type": "code",
   "execution_count": 60,
   "metadata": {},
   "outputs": [],
   "source": [
    "data = data.dropna()"
   ]
  },
  {
   "cell_type": "code",
   "execution_count": 61,
   "metadata": {},
   "outputs": [
    {
     "data": {
      "text/plain": [
       "Trip_Distance_km         0\n",
       "Time_of_Day              0\n",
       "Day_of_Week              0\n",
       "Passenger_Count          0\n",
       "Traffic_Conditions       0\n",
       "Weather                  0\n",
       "Base_Fare                0\n",
       "Per_Km_Rate              0\n",
       "Per_Minute_Rate          0\n",
       "Trip_Duration_Minutes    0\n",
       "Trip_Price               0\n",
       "dtype: int64"
      ]
     },
     "execution_count": 61,
     "metadata": {},
     "output_type": "execute_result"
    }
   ],
   "source": [
    "data.isna().sum()"
   ]
  },
  {
   "cell_type": "code",
   "execution_count": 62,
   "metadata": {},
   "outputs": [
    {
     "data": {
      "text/plain": [
       "(562, 11)"
      ]
     },
     "execution_count": 62,
     "metadata": {},
     "output_type": "execute_result"
    }
   ],
   "source": [
    "data.shape"
   ]
  },
  {
   "cell_type": "code",
   "execution_count": 63,
   "metadata": {},
   "outputs": [
    {
     "data": {
      "text/plain": [
       "Trip_Distance_km         float64\n",
       "Time_of_Day               object\n",
       "Day_of_Week               object\n",
       "Passenger_Count          float64\n",
       "Traffic_Conditions        object\n",
       "Weather                   object\n",
       "Base_Fare                float64\n",
       "Per_Km_Rate              float64\n",
       "Per_Minute_Rate          float64\n",
       "Trip_Duration_Minutes    float64\n",
       "Trip_Price               float64\n",
       "dtype: object"
      ]
     },
     "execution_count": 63,
     "metadata": {},
     "output_type": "execute_result"
    }
   ],
   "source": [
    "data.dtypes"
   ]
  },
  {
   "cell_type": "code",
   "execution_count": 64,
   "metadata": {},
   "outputs": [
    {
     "name": "stderr",
     "output_type": "stream",
     "text": [
      "/Users/bhagya/Library/Python/3.9/lib/python/site-packages/sklearn/preprocessing/_label.py:114: DataConversionWarning: A column-vector y was passed when a 1d array was expected. Please change the shape of y to (n_samples, ), for example using ravel().\n",
      "  y = column_or_1d(y, warn=True)\n",
      "/Users/bhagya/Library/Python/3.9/lib/python/site-packages/sklearn/preprocessing/_label.py:114: DataConversionWarning: A column-vector y was passed when a 1d array was expected. Please change the shape of y to (n_samples, ), for example using ravel().\n",
      "  y = column_or_1d(y, warn=True)\n"
     ]
    },
    {
     "data": {
      "text/plain": [
       "(562, 11)"
      ]
     },
     "execution_count": 64,
     "metadata": {},
     "output_type": "execute_result"
    }
   ],
   "source": [
    "from sklearn.preprocessing import LabelEncoder, OrdinalEncoder\n",
    "\n",
    "oe = OrdinalEncoder()\n",
    "le = LabelEncoder()\n",
    "data['Time_of_Day'] = le.fit_transform(data['Time_of_Day'].values.reshape((-1,1)))\n",
    "data['Day_of_Week']  = le.fit_transform(data['Day_of_Week'].values.reshape((-1,1)))\n",
    "data['Traffic_Conditions'] = oe.fit_transform(data['Traffic_Conditions'].values.reshape((-1,1)))\n",
    "data['Weather'] = oe.fit_transform(data['Weather'].values.reshape((-1,1)))\n",
    "data.shape"
   ]
  },
  {
   "cell_type": "code",
   "execution_count": 65,
   "metadata": {},
   "outputs": [
    {
     "data": {
      "text/html": [
       "<div>\n",
       "<style scoped>\n",
       "    .dataframe tbody tr th:only-of-type {\n",
       "        vertical-align: middle;\n",
       "    }\n",
       "\n",
       "    .dataframe tbody tr th {\n",
       "        vertical-align: top;\n",
       "    }\n",
       "\n",
       "    .dataframe thead th {\n",
       "        text-align: right;\n",
       "    }\n",
       "</style>\n",
       "<table border=\"1\" class=\"dataframe\">\n",
       "  <thead>\n",
       "    <tr style=\"text-align: right;\">\n",
       "      <th></th>\n",
       "      <th>Trip_Distance_km</th>\n",
       "      <th>Time_of_Day</th>\n",
       "      <th>Day_of_Week</th>\n",
       "      <th>Passenger_Count</th>\n",
       "      <th>Traffic_Conditions</th>\n",
       "      <th>Weather</th>\n",
       "      <th>Base_Fare</th>\n",
       "      <th>Per_Km_Rate</th>\n",
       "      <th>Per_Minute_Rate</th>\n",
       "      <th>Trip_Duration_Minutes</th>\n",
       "      <th>Trip_Price</th>\n",
       "    </tr>\n",
       "  </thead>\n",
       "  <tbody>\n",
       "    <tr>\n",
       "      <th>Trip_Distance_km</th>\n",
       "      <td>1.000000</td>\n",
       "      <td>-0.013837</td>\n",
       "      <td>-0.052807</td>\n",
       "      <td>-0.034928</td>\n",
       "      <td>-0.106316</td>\n",
       "      <td>-0.018755</td>\n",
       "      <td>0.011602</td>\n",
       "      <td>0.009526</td>\n",
       "      <td>-0.051541</td>\n",
       "      <td>-0.012714</td>\n",
       "      <td>0.862965</td>\n",
       "    </tr>\n",
       "    <tr>\n",
       "      <th>Time_of_Day</th>\n",
       "      <td>-0.013837</td>\n",
       "      <td>1.000000</td>\n",
       "      <td>-0.014570</td>\n",
       "      <td>0.026880</td>\n",
       "      <td>-0.007814</td>\n",
       "      <td>-0.005159</td>\n",
       "      <td>0.084008</td>\n",
       "      <td>0.039006</td>\n",
       "      <td>-0.025430</td>\n",
       "      <td>0.016992</td>\n",
       "      <td>-0.002766</td>\n",
       "    </tr>\n",
       "    <tr>\n",
       "      <th>Day_of_Week</th>\n",
       "      <td>-0.052807</td>\n",
       "      <td>-0.014570</td>\n",
       "      <td>1.000000</td>\n",
       "      <td>0.008183</td>\n",
       "      <td>0.034473</td>\n",
       "      <td>0.041569</td>\n",
       "      <td>0.010148</td>\n",
       "      <td>-0.070712</td>\n",
       "      <td>-0.019182</td>\n",
       "      <td>-0.026843</td>\n",
       "      <td>-0.066792</td>\n",
       "    </tr>\n",
       "    <tr>\n",
       "      <th>Passenger_Count</th>\n",
       "      <td>-0.034928</td>\n",
       "      <td>0.026880</td>\n",
       "      <td>0.008183</td>\n",
       "      <td>1.000000</td>\n",
       "      <td>0.001443</td>\n",
       "      <td>0.053266</td>\n",
       "      <td>0.082952</td>\n",
       "      <td>0.109527</td>\n",
       "      <td>0.085722</td>\n",
       "      <td>0.043815</td>\n",
       "      <td>0.015793</td>\n",
       "    </tr>\n",
       "    <tr>\n",
       "      <th>Traffic_Conditions</th>\n",
       "      <td>-0.106316</td>\n",
       "      <td>-0.007814</td>\n",
       "      <td>0.034473</td>\n",
       "      <td>0.001443</td>\n",
       "      <td>1.000000</td>\n",
       "      <td>0.073950</td>\n",
       "      <td>-0.021487</td>\n",
       "      <td>0.029847</td>\n",
       "      <td>0.002854</td>\n",
       "      <td>-0.002221</td>\n",
       "      <td>-0.109504</td>\n",
       "    </tr>\n",
       "    <tr>\n",
       "      <th>Weather</th>\n",
       "      <td>-0.018755</td>\n",
       "      <td>-0.005159</td>\n",
       "      <td>0.041569</td>\n",
       "      <td>0.053266</td>\n",
       "      <td>0.073950</td>\n",
       "      <td>1.000000</td>\n",
       "      <td>-0.056393</td>\n",
       "      <td>0.042454</td>\n",
       "      <td>-0.010524</td>\n",
       "      <td>0.086299</td>\n",
       "      <td>0.005860</td>\n",
       "    </tr>\n",
       "    <tr>\n",
       "      <th>Base_Fare</th>\n",
       "      <td>0.011602</td>\n",
       "      <td>0.084008</td>\n",
       "      <td>0.010148</td>\n",
       "      <td>0.082952</td>\n",
       "      <td>-0.021487</td>\n",
       "      <td>-0.056393</td>\n",
       "      <td>1.000000</td>\n",
       "      <td>0.019944</td>\n",
       "      <td>-0.018082</td>\n",
       "      <td>0.055816</td>\n",
       "      <td>0.030897</td>\n",
       "    </tr>\n",
       "    <tr>\n",
       "      <th>Per_Km_Rate</th>\n",
       "      <td>0.009526</td>\n",
       "      <td>0.039006</td>\n",
       "      <td>-0.070712</td>\n",
       "      <td>0.109527</td>\n",
       "      <td>0.029847</td>\n",
       "      <td>0.042454</td>\n",
       "      <td>0.019944</td>\n",
       "      <td>1.000000</td>\n",
       "      <td>0.018978</td>\n",
       "      <td>0.077103</td>\n",
       "      <td>0.278268</td>\n",
       "    </tr>\n",
       "    <tr>\n",
       "      <th>Per_Minute_Rate</th>\n",
       "      <td>-0.051541</td>\n",
       "      <td>-0.025430</td>\n",
       "      <td>-0.019182</td>\n",
       "      <td>0.085722</td>\n",
       "      <td>0.002854</td>\n",
       "      <td>-0.010524</td>\n",
       "      <td>-0.018082</td>\n",
       "      <td>0.018978</td>\n",
       "      <td>1.000000</td>\n",
       "      <td>-0.018742</td>\n",
       "      <td>0.110967</td>\n",
       "    </tr>\n",
       "    <tr>\n",
       "      <th>Trip_Duration_Minutes</th>\n",
       "      <td>-0.012714</td>\n",
       "      <td>0.016992</td>\n",
       "      <td>-0.026843</td>\n",
       "      <td>0.043815</td>\n",
       "      <td>-0.002221</td>\n",
       "      <td>0.086299</td>\n",
       "      <td>0.055816</td>\n",
       "      <td>0.077103</td>\n",
       "      <td>-0.018742</td>\n",
       "      <td>1.000000</td>\n",
       "      <td>0.221717</td>\n",
       "    </tr>\n",
       "    <tr>\n",
       "      <th>Trip_Price</th>\n",
       "      <td>0.862965</td>\n",
       "      <td>-0.002766</td>\n",
       "      <td>-0.066792</td>\n",
       "      <td>0.015793</td>\n",
       "      <td>-0.109504</td>\n",
       "      <td>0.005860</td>\n",
       "      <td>0.030897</td>\n",
       "      <td>0.278268</td>\n",
       "      <td>0.110967</td>\n",
       "      <td>0.221717</td>\n",
       "      <td>1.000000</td>\n",
       "    </tr>\n",
       "  </tbody>\n",
       "</table>\n",
       "</div>"
      ],
      "text/plain": [
       "                       Trip_Distance_km  Time_of_Day  Day_of_Week  \\\n",
       "Trip_Distance_km               1.000000    -0.013837    -0.052807   \n",
       "Time_of_Day                   -0.013837     1.000000    -0.014570   \n",
       "Day_of_Week                   -0.052807    -0.014570     1.000000   \n",
       "Passenger_Count               -0.034928     0.026880     0.008183   \n",
       "Traffic_Conditions            -0.106316    -0.007814     0.034473   \n",
       "Weather                       -0.018755    -0.005159     0.041569   \n",
       "Base_Fare                      0.011602     0.084008     0.010148   \n",
       "Per_Km_Rate                    0.009526     0.039006    -0.070712   \n",
       "Per_Minute_Rate               -0.051541    -0.025430    -0.019182   \n",
       "Trip_Duration_Minutes         -0.012714     0.016992    -0.026843   \n",
       "Trip_Price                     0.862965    -0.002766    -0.066792   \n",
       "\n",
       "                       Passenger_Count  Traffic_Conditions   Weather  \\\n",
       "Trip_Distance_km             -0.034928           -0.106316 -0.018755   \n",
       "Time_of_Day                   0.026880           -0.007814 -0.005159   \n",
       "Day_of_Week                   0.008183            0.034473  0.041569   \n",
       "Passenger_Count               1.000000            0.001443  0.053266   \n",
       "Traffic_Conditions            0.001443            1.000000  0.073950   \n",
       "Weather                       0.053266            0.073950  1.000000   \n",
       "Base_Fare                     0.082952           -0.021487 -0.056393   \n",
       "Per_Km_Rate                   0.109527            0.029847  0.042454   \n",
       "Per_Minute_Rate               0.085722            0.002854 -0.010524   \n",
       "Trip_Duration_Minutes         0.043815           -0.002221  0.086299   \n",
       "Trip_Price                    0.015793           -0.109504  0.005860   \n",
       "\n",
       "                       Base_Fare  Per_Km_Rate  Per_Minute_Rate  \\\n",
       "Trip_Distance_km        0.011602     0.009526        -0.051541   \n",
       "Time_of_Day             0.084008     0.039006        -0.025430   \n",
       "Day_of_Week             0.010148    -0.070712        -0.019182   \n",
       "Passenger_Count         0.082952     0.109527         0.085722   \n",
       "Traffic_Conditions     -0.021487     0.029847         0.002854   \n",
       "Weather                -0.056393     0.042454        -0.010524   \n",
       "Base_Fare               1.000000     0.019944        -0.018082   \n",
       "Per_Km_Rate             0.019944     1.000000         0.018978   \n",
       "Per_Minute_Rate        -0.018082     0.018978         1.000000   \n",
       "Trip_Duration_Minutes   0.055816     0.077103        -0.018742   \n",
       "Trip_Price              0.030897     0.278268         0.110967   \n",
       "\n",
       "                       Trip_Duration_Minutes  Trip_Price  \n",
       "Trip_Distance_km                   -0.012714    0.862965  \n",
       "Time_of_Day                         0.016992   -0.002766  \n",
       "Day_of_Week                        -0.026843   -0.066792  \n",
       "Passenger_Count                     0.043815    0.015793  \n",
       "Traffic_Conditions                 -0.002221   -0.109504  \n",
       "Weather                             0.086299    0.005860  \n",
       "Base_Fare                           0.055816    0.030897  \n",
       "Per_Km_Rate                         0.077103    0.278268  \n",
       "Per_Minute_Rate                    -0.018742    0.110967  \n",
       "Trip_Duration_Minutes               1.000000    0.221717  \n",
       "Trip_Price                          0.221717    1.000000  "
      ]
     },
     "execution_count": 65,
     "metadata": {},
     "output_type": "execute_result"
    }
   ],
   "source": [
    "data.corr()"
   ]
  },
  {
   "cell_type": "code",
   "execution_count": 66,
   "metadata": {},
   "outputs": [
    {
     "data": {
      "text/plain": [
       "((562, 10), (562,))"
      ]
     },
     "execution_count": 66,
     "metadata": {},
     "output_type": "execute_result"
    }
   ],
   "source": [
    "X = data.drop(['Trip_Price'], axis = 1)\n",
    "y = data['Trip_Price']\n",
    "X.shape, y.shape"
   ]
  },
  {
   "cell_type": "code",
   "execution_count": 67,
   "metadata": {},
   "outputs": [],
   "source": [
    "from sklearn.model_selection import train_test_split\n",
    "\n",
    "X_train, X_test, y_train, y_test = train_test_split(X,y, test_size=0.2, random_state=42)"
   ]
  },
  {
   "cell_type": "code",
   "execution_count": 68,
   "metadata": {},
   "outputs": [],
   "source": [
    "from sklearn.linear_model import LinearRegression\n",
    "\n",
    "lr = LinearRegression()\n",
    "lr.fit(X_train, y_train)\n",
    "pred = lr.predict(X_test)"
   ]
  },
  {
   "cell_type": "code",
   "execution_count": 69,
   "metadata": {},
   "outputs": [
    {
     "data": {
      "text/plain": [
       "0.883374973392942"
      ]
     },
     "execution_count": 69,
     "metadata": {},
     "output_type": "execute_result"
    }
   ],
   "source": [
    "from sklearn.metrics import r2_score\n",
    "\n",
    "r2 = r2_score(y_test, pred)\n",
    "r2"
   ]
  }
 ],
 "metadata": {
  "kernelspec": {
   "display_name": "Python 3",
   "language": "python",
   "name": "python3"
  },
  "language_info": {
   "codemirror_mode": {
    "name": "ipython",
    "version": 3
   },
   "file_extension": ".py",
   "mimetype": "text/x-python",
   "name": "python",
   "nbconvert_exporter": "python",
   "pygments_lexer": "ipython3",
   "version": "3.9.6"
  }
 },
 "nbformat": 4,
 "nbformat_minor": 2
}
